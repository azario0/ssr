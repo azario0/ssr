{
 "cells": [
  {
   "cell_type": "markdown",
   "metadata": {},
   "source": [
    "# Seeing up the recipes :"
   ]
  },
  {
   "cell_type": "code",
   "execution_count": null,
   "metadata": {},
   "outputs": [],
   "source": [
    "recipe_names = ['Classic Sushi Rolls','Beef Stew','Gazpacho','Chocolate Lava Cake','Quinoa Salad with Roasted Vegetables']\n",
    "Sushi ={\n",
    "    \"Name\":\"Classic Sushi Rolls\",\n",
    "    \"Short Description\":  \"\"\"Fresh and delicate sushi rolls made with rice, seaweed, and your choice of fillings like cucumber, avocado, and crab meat.\"\"\",\n",
    "    'Full Description':\"Sushi rolls, or 'maki,' are a beloved Japanese dish that consists of vinegared rice combined with various fillings, all rolled up in seaweed (nori). This recipe will guide you through making a basic sushi roll with cucumber, avocado, and crab meat, but feel free to get creative with your favorite ingredients.\",\n",
    "    'Ingredients':\"\"\"\n",
    "        2 cups sushi rice\n",
    "\n",
    "        2 cups water\n",
    "\n",
    "        1/4 cup rice vinegar\n",
    "\n",
    "        2 tablespoons sugar\n",
    "\n",
    "        1 teaspoon salt\n",
    "\n",
    "        4 sheets of nori (seaweed)\n",
    "\n",
    "        1 cucumber, thinly sliced\n",
    "\n",
    "        1 avocado, peeled and sliced\n",
    "\n",
    "        1/2 cup crab meat (real or imitation)\n",
    "\n",
    "        Wasabi and soy sauce for serving\"\"\",\n",
    "    'How to Cook':\"\"\"\n",
    "        Rice: Rinse the rice until the water runs clear. Combine rice and water in a pot, bring to a boil, then reduce heat to low, cover, and simmer for 18-20 minutes. Remove from heat and let it steam for another 10 minutes.\n",
    "        Vinegar Mixture: In a small pan, combine rice vinegar, sugar, and salt. Heat until the sugar dissolves.\n",
    "        Cool Rice: Spread the cooked rice on a large plate and pour the vinegar mixture over it. Gently mix with a wooden spoon.\n",
    "        Rolling: Place a sheet of nori on a sushi mat, shiny side down. Spread a thin layer of rice over the nori, leaving a 1-inch border at the top. Arrange cucumber, avocado, and crab meat in a line across the center.\n",
    "        Roll: Lift the bottom edge of the mat and roll forward, pressing gently to form a tight roll. Repeat with remaining ingredients.\n",
    "        Slice: Using a sharp knife, slice the rolls into 8 pieces each. Serve with wasabi and soy sauce.\n",
    "        \"\"\",\n",
    "    'Facts':\"\"\"\n",
    "        Sushi originated in Japan, but it has become popular worldwide.\n",
    "        Traditional sushi was developed as a way to preserve fish, but it has evolved into an art form.\n",
    "        Sushi is often eaten with chopsticks, and it’s customary to dip the sushi into soy sauce with the fish side, not the rice side.\n",
    "        \"\"\"\n",
    "}"
   ]
  },
  {
   "cell_type": "code",
   "execution_count": null,
   "metadata": {},
   "outputs": [],
   "source": [
    "Beef_Stew ={\n",
    "    \"Name\":\"Beef Stew\",\n",
    "\"Short Description\":  \"\"\"A hearty and comforting beef stew made with tender beef, potatoes, carrots, and onions in a rich broth.\"\"\",\n",
    "    'Full Description':\"Beef stew is a classic comfort food that has been enjoyed for centuries. This recipe uses beef chuck, which becomes incredibly tender after slow cooking, combined with potatoes, carrots, and onions in a savory broth. It’s perfect for a cold day or any time you want a satisfying meal.\",\n",
    "    'Ingredients':\"\"\"\n",
    "2 pounds beef chuck, cut into 1-inch cubes\n",
    "\n",
    "4 cups beef broth\n",
    "\n",
    "4 carrots, sliced\n",
    "\n",
    "4 potatoes, diced\n",
    "\n",
    "1 large onion, sliced\n",
    "\n",
    "3 cloves garlic, minced\n",
    "\n",
    "2 tablespoons tomato paste\n",
    "\n",
    "2 tablespoons olive oil\n",
    "\n",
    "2 teaspoons dried thyme\n",
    "\n",
    "1 teaspoon dried rosemary\n",
    "\n",
    "Salt and pepper to taste\n",
    "\n",
    "2 tablespoons all-purpose flour (optional, for thickening)\n",
    "\"\"\",\n",
    "    'How to Cook':\"\"\"\n",
    "Brown the Beef: Heat olive oil in a large pot over medium heat. Add the beef cubes and brown on all sides. Remove the beef and set aside.\n",
    "\n",
    "Sauté Vegetables: In the same pot, add the onions, garlic, carrots, and potatoes. Sauté until the onions are translucent.\n",
    "\n",
    "Add Broth and Spices: Pour in the beef broth, add tomato paste, thyme, rosemary, and salt and pepper. Stir well to combine.\n",
    "\n",
    "Simmer: Return the beef to the pot, bring to a boil, then reduce heat to low. Cover and simmer for 2-3 hours, or until the beef and vegetables are tender.\n",
    "\n",
    "Thicken (Optional): If you prefer a thicker stew, mix flour with a little water to create a slurry and stir it into the stew. Let it simmer for another 10 minutes.\n",
    "\n",
    "Serve: Serve hot, garnished with fresh parsley if desired.\n",
    "\"\"\",\n",
    "    'Facts':\n",
    "[\"\"\"\n",
    "Beef stew has been a staple in many cultures, including Irish, French, and American.    \n",
    "\"\"\",\"\"\"\n",
    "The slow cooking process tenderizes the meat and allows the flavors to meld together.\n",
    "\"\"\",\"\"\"\n",
    "In Ireland, a similar dish called \"Irish stew\" traditionally includes lamb or mutton instead of beef.\n",
    "\"\"\"]\n",
    "}"
   ]
  },
  {
   "cell_type": "code",
   "execution_count": 3,
   "metadata": {},
   "outputs": [],
   "source": [
    "Gazpacho ={\n",
    "    \"Name\":\"Gazpacho\",\n",
    "\"Short Description\":  \"\"\"A refreshing Spanish cold soup made with tomatoes, cucumbers, bell peppers, and a splash of vinegar.\"\"\",\n",
    "    'Full Description':\"Gazpacho is a traditional Spanish cold soup that is perfect for hot summer days. This recipe uses fresh tomatoes, cucumbers, bell peppers, and a hint of vinegar and olive oil to create a refreshing and healthy dish. It’s easy to make and can be customized with your favorite vegetables.\",\n",
    "    'Ingredients':\"\"\"\n",
    "4 large tomatoes, chopped\n",
    "\n",
    "2 cucumbers, chopped\n",
    "\n",
    "1 bell pepper, chopped\n",
    "\n",
    "1/2 onion, chopped\n",
    "\n",
    "1/4 cup red wine vinegar\n",
    "\n",
    "1/4 cup olive oil\n",
    "\n",
    "1 clove garlic, minced\n",
    "\n",
    "1 teaspoon salt\n",
    "\n",
    "1/2 teaspoon black pepper\n",
    "\n",
    "1/2 cup water or tomato juice (optional)\n",
    "\n",
    "Ice cubes (optional, for serving)\n",
    "\"\"\",\n",
    "    'How to Cook':\"\"\"\n",
    "Blend: In a blender or food processor, combine all the ingredients except for the ice cubes. Blend until smooth.\n",
    "\n",
    "Chill: Pour the gazpacho into a bowl and refrigerate for at least 1 hour to chill.\n",
    "\n",
    "Serve: Serve cold, garnished with chopped cucumber, tomato, or bell pepper. Add ice cubes if desired.\n",
    "\"\"\",\n",
    "    'Facts':[\"Gazpacho originated in the southern Spanish region of Andalusia.\",\n",
    "             \"It was traditionally made by peasants who needed a refreshing meal during hot summers.\",\n",
    "             \"Gazpacho is often served with a variety of toppings, such as chopped onions, bread, or even a drizzle of olive oil.\"]\n",
    "}"
   ]
  },
  {
   "cell_type": "code",
   "execution_count": 4,
   "metadata": {},
   "outputs": [],
   "source": [
    "Chocolate_Lava_Cake ={\n",
    "    \"Name\":\"Chocolate Lava Cake\",\n",
    "\"Short Description\":  \"\"\"A rich and decadent chocolate cake with a molten center, served warm with a scoop of vanilla ice cream.\"\"\",\n",
    "    'Full Description':\"Chocolate lava cake is a luxurious dessert that is sure to impress. This recipe creates small, individual cakes that are baked just until the edges are set, leaving a gooey, chocolatey center. Serve them warm with a scoop of vanilla ice cream for the perfect contrast.\",\n",
    "    'Ingredients':\"\"\"\n",
    "1/2 cup unsalted butter\n",
    "\n",
    "6 ounces dark chocolate, chopped\n",
    "\n",
    "1/2 cup granulated sugar\n",
    "\n",
    "1/2 cup all-purpose flour\n",
    "\n",
    "3 large eggs\n",
    "\n",
    "1 tablespoon cocoa powder\n",
    "\n",
    "1/2 teaspoon vanilla extract\n",
    "\n",
    "Pinch of salt\n",
    "\n",
    "Vanilla ice cream for serving\n",
    "\"\"\",\n",
    "    'How to Cook':\"\"\"\n",
    "Preheat: Preheat the oven to 425°F (220°C). Grease six small ramekins or muffin cups.\n",
    "\n",
    "Melt Chocolate and Butter: In a microwave-safe bowl, melt the butter and chocolate together in 30-second intervals, stirring between each interval until smooth.\n",
    "\n",
    "Mix Wet Ingredients: In a separate bowl, whisk together the eggs, sugar, vanilla extract, and salt until well combined.\n",
    "\n",
    "Combine: Pour the melted chocolate mixture into the egg mixture and whisk until smooth. Add the cocoa powder and flour, and mix until just combined.\n",
    "\n",
    "Bake: Pour the batter into the prepared ramekins, filling each about 3/4 full. Bake for 12-15 minutes, or until the edges are set but the center is still slightly jiggly.\n",
    "\n",
    "Serve: Let the cakes cool for a few minutes, then carefully run a knife around the edge to loosen. Invert onto a plate and serve immediately with a scoop of vanilla ice cream.\n",
    "\"\"\",\n",
    "    'Facts':[\"Lava cake was popularized in the 1990s, but its origins can be traced back to European molten chocolate cakes.\",\n",
    "             \"The dish is often served with a variety of toppings, such as fresh berries, powdered sugar, or a drizzle of caramel sauce.\",\n",
    "             \"The key to a perfect lava cake is to not overbake it—keep an eye on it and remove it from the oven when the center is still molten.\"]\n",
    "}"
   ]
  },
  {
   "cell_type": "code",
   "execution_count": 5,
   "metadata": {},
   "outputs": [],
   "source": [
    "Quinoa_Salad_with_Roasted_Vegetables ={\n",
    "    \"Name\":\"Quinoa Salad with Roasted Vegetables\",\n",
    "\"Short Description\":  \"\"\"A healthy and flavorful quinoa salad packed with roasted vegetables, chickpeas, and a tangy dressing.\"\"\",\n",
    "    'Full Description':\"This quinoa salad is a nutritious and delicious dish that can be enjoyed as a main course or side. It combines cooked quinoa with a variety of roasted vegetables, chickpeas, and a zesty lemon-tahini dressing. It’s perfect for meal prep or a light lunch.\",\n",
    "    'Ingredients':\"\"\"\n",
    "1 cup quinoa, uncooked\n",
    "\n",
    "2 cups water or vegetable broth\n",
    "\n",
    "2 cups mixed vegetables (e.g., bell peppers, zucchini, cherry tomatoes, onions), chopped\n",
    "\n",
    "1/2 cup chickpeas, cooked\n",
    "\n",
    "1/4 cup chopped fresh parsley\n",
    "\n",
    "1/4 cup chopped fresh mint\n",
    "\n",
    "1/4 cup lemon juice\n",
    "\n",
    "3 tablespoons tahini\n",
    "\n",
    "1 tablespoon olive oil\n",
    "\n",
    "1 clove garlic, minced\n",
    "\n",
    "Salt and pepper to taste\n",
    "\"\"\",\n",
    "    'How to Cook':\"\"\"\n",
    "Cook Quinoa: Rinse the quinoa under cold water. In a medium pot, combine quinoa and water or broth. Bring to a boil, then reduce heat to low, cover, and simmer for 15-20 minutes, or until the quinoa is cooked and the liquid is absorbed.\n",
    "\n",
    "Roast Vegetables: Preheat the oven to 400°F (200°C). Toss the chopped vegetables with a little olive oil, salt, and pepper on a baking sheet. Roast for 20-25 minutes, or until tender and slightly caramelized.\n",
    "\n",
    "Make Dressing: In a small bowl, whisk together lemon juice, tahini, olive oil, garlic, salt, and pepper until smooth.\n",
    "\n",
    "Assemble Salad: In a large bowl, combine the cooked quinoa, roasted vegetables, chickpeas, parsley, and mint. Pour the dressing over the top and toss to combine.\n",
    "\n",
    "Serve: Serve at room temperature or chill in the refrigerator before serving.\n",
    "\"\"\",\n",
    "    'Facts':[\"Quinoa is a complete protein, making it a great option for vegetarians and vegans.\",\n",
    "             \"This dish is highly customizable—feel free to add or substitute your favorite vegetables or proteins.\",\n",
    "             \"Quinoa salad is popular in many cuisines, including Middle Eastern, Mediterranean, and Latin American.\"]\n",
    "}"
   ]
  },
  {
   "cell_type": "markdown",
   "metadata": {},
   "source": [
    "# Setting up the api key"
   ]
  },
  {
   "cell_type": "code",
   "execution_count": null,
   "metadata": {},
   "outputs": [],
   "source": [
    "import os\n",
    "os.environ[\"GOOGLE_API_KEY\"] = 'YOUR_API_KEY'"
   ]
  },
  {
   "cell_type": "markdown",
   "metadata": {},
   "source": [
    "# The model that we would be using :"
   ]
  },
  {
   "cell_type": "code",
   "execution_count": 7,
   "metadata": {},
   "outputs": [],
   "source": [
    "from langchain_google_genai import ChatGoogleGenerativeAI\n",
    "\n",
    "llm = ChatGoogleGenerativeAI(\n",
    "    model=\"gemini-1.5-pro\",\n",
    "    temperature=0,\n",
    "    max_tokens=None,\n",
    "    timeout=None,\n",
    "    max_retries=2,\n",
    ")"
   ]
  },
  {
   "cell_type": "markdown",
   "metadata": {},
   "source": [
    "# Recipe selector "
   ]
  },
  {
   "cell_type": "code",
   "execution_count": null,
   "metadata": {},
   "outputs": [
    {
     "name": "stdout",
     "output_type": "stream",
     "text": [
      "Quinoa_Salad_with_Roasted_Vegetables\n",
      "\n"
     ]
    }
   ],
   "source": [
    "from langchain.prompts import PromptTemplate\n",
    "from langchain.chains import LLMChain\n",
    "\n",
    "# Create a prompt template\n",
    "prompt_template = PromptTemplate(\n",
    "    input_variables=[\"user_request\", \"recipe_names\"],\n",
    "    template=\"\"\"\n",
    "    You are a helpful assistant that recommend recipe names based on user requests. \n",
    "    Here is a list of available recipe names: {recipe_names}\n",
    "    Baed on what you know return one of these recipe names, \n",
    "    please return that recipe name exactly as it is. \n",
    "    If the user's request does not match any of these recipe names, please return 'None'.\n",
    "    User Request: {user_request}\n",
    "    \"\"\"\n",
    ")\n",
    "# Create an LLMChain\n",
    "llm_chain = LLMChain(llm=llm, prompt=prompt_template)\n",
    "\n",
    "# Example user request\n",
    "prompt = \"Is ther something vegetable to eat ?\"\n",
    "# prompt = \"i'm very hangry what would you recommend to eat ?\"\n",
    "# Run the chain\n",
    "response = llm_chain.run(user_request=prompt, recipe_names=\", \".join(recipe_names))\n",
    "print(response)"
   ]
  },
  {
   "cell_type": "markdown",
   "metadata": {},
   "source": [
    "# Cleaning the response and filtering"
   ]
  },
  {
   "cell_type": "code",
   "execution_count": 12,
   "metadata": {},
   "outputs": [],
   "source": [
    "response = response.rstrip()"
   ]
  },
  {
   "cell_type": "code",
   "execution_count": 13,
   "metadata": {},
   "outputs": [],
   "source": [
    "if response != None:\n",
    "    value = globals()[response.rstrip()]\n",
    "\n",
    "else :\n",
    "    print(\"Sorry but we don't have what you're asking for\")"
   ]
  },
  {
   "cell_type": "markdown",
   "metadata": {},
   "source": [
    "# Part 2 \n",
    "### To handle requests about the selected dish "
   ]
  },
  {
   "cell_type": "code",
   "execution_count": 14,
   "metadata": {},
   "outputs": [
    {
     "name": "stdout",
     "output_type": "stream",
     "text": [
      "A healthy and flavorful quinoa salad packed with roasted vegetables, chickpeas, and a tangy dressing.\n",
      "Is there anything to assiste you with for that recipe ?\n"
     ]
    }
   ],
   "source": [
    "print(value['Short Description'])\n",
    "\n",
    "print('Is there anything to assiste you with for that recipe ?')"
   ]
  },
  {
   "cell_type": "markdown",
   "metadata": {},
   "source": [
    "# The selected dish"
   ]
  },
  {
   "cell_type": "code",
   "execution_count": 15,
   "metadata": {},
   "outputs": [
    {
     "data": {
      "text/plain": [
       "{'Name': 'Quinoa Salad with Roasted Vegetables',\n",
       " 'Short Description': 'A healthy and flavorful quinoa salad packed with roasted vegetables, chickpeas, and a tangy dressing.',\n",
       " 'Full Description': 'This quinoa salad is a nutritious and delicious dish that can be enjoyed as a main course or side. It combines cooked quinoa with a variety of roasted vegetables, chickpeas, and a zesty lemon-tahini dressing. It’s perfect for meal prep or a light lunch.',\n",
       " 'Ingredients': '\\n1 cup quinoa, uncooked\\n\\n2 cups water or vegetable broth\\n\\n2 cups mixed vegetables (e.g., bell peppers, zucchini, cherry tomatoes, onions), chopped\\n\\n1/2 cup chickpeas, cooked\\n\\n1/4 cup chopped fresh parsley\\n\\n1/4 cup chopped fresh mint\\n\\n1/4 cup lemon juice\\n\\n3 tablespoons tahini\\n\\n1 tablespoon olive oil\\n\\n1 clove garlic, minced\\n\\nSalt and pepper to taste\\n',\n",
       " 'How to Cook': '\\nCook Quinoa: Rinse the quinoa under cold water. In a medium pot, combine quinoa and water or broth. Bring to a boil, then reduce heat to low, cover, and simmer for 15-20 minutes, or until the quinoa is cooked and the liquid is absorbed.\\n\\nRoast Vegetables: Preheat the oven to 400°F (200°C). Toss the chopped vegetables with a little olive oil, salt, and pepper on a baking sheet. Roast for 20-25 minutes, or until tender and slightly caramelized.\\n\\nMake Dressing: In a small bowl, whisk together lemon juice, tahini, olive oil, garlic, salt, and pepper until smooth.\\n\\nAssemble Salad: In a large bowl, combine the cooked quinoa, roasted vegetables, chickpeas, parsley, and mint. Pour the dressing over the top and toss to combine.\\n\\nServe: Serve at room temperature or chill in the refrigerator before serving.\\n',\n",
       " 'Facts': ['Quinoa is a complete protein, making it a great option for vegetarians and vegans.',\n",
       "  'This dish is highly customizable—feel free to add or substitute your favorite vegetables or proteins.',\n",
       "  'Quinoa salad is popular in many cuisines, including Middle Eastern, Mediterranean, and Latin American.']}"
      ]
     },
     "execution_count": 15,
     "metadata": {},
     "output_type": "execute_result"
    }
   ],
   "source": [
    "value"
   ]
  },
  {
   "cell_type": "code",
   "execution_count": 23,
   "metadata": {},
   "outputs": [],
   "source": [
    "content = ['Name','Short Description','Full Description','Ingredients','How to Cook','Facts']\n",
    "to_send = f\"Dish name :{value['Name']} , Dish short description :{value['Short Description']}\""
   ]
  },
  {
   "cell_type": "markdown",
   "metadata": {},
   "source": [
    "# Asking the llm what part of the recipe <br>the user want to know about and <br>returning it if not it would return error"
   ]
  },
  {
   "cell_type": "code",
   "execution_count": 24,
   "metadata": {},
   "outputs": [
    {
     "name": "stdout",
     "output_type": "stream",
     "text": [
      "\n",
      "You are a helpful assistant that would respond with what the user is looking for, \n",
      "here's the list of the available choices you should respond with ['Name', 'Short Description', 'Full Description', 'Ingredients', 'How to Cook', 'Facts']\n",
      "if the requirements of the user request are not in what you should respond with, \n",
      "please respond with none\n",
      "here's the recipe that we're on about:\n",
      "Dish name :Quinoa Salad with Roasted Vegetables , Dish short description :A healthy and flavorful quinoa salad packed with roasted vegetables, chickpeas, and a tangy dressing.\n",
      "\n",
      "User Request: I would love to know the igredients of that dish !\n",
      "\n"
     ]
    }
   ],
   "source": [
    "# Define the prompt template\n",
    "prompt_template = \"\"\"\n",
    "You are a helpful assistant that would respond with what the user is looking for, \n",
    "here's the list of the available choices you should respond with {content}\n",
    "if the requirements of the user request are not in what you should respond with, \n",
    "please respond with none\n",
    "here's the recipe that we're on about:\n",
    "{to_send}\n",
    "\n",
    "User Request: {user_request}\n",
    "\"\"\"\n",
    "\n",
    "# Create the PromptTemplate instance\n",
    "prompt = PromptTemplate(\n",
    "    input_variables=[\"content\", \"to_send\", \"user_request\"],\n",
    "    template=prompt_template\n",
    ")\n",
    "\n",
    "\n",
    "user_request = \"I would love to know the igredients of that dish !\"\n",
    "\n",
    "# Format the template with the inputs\n",
    "formatted_prompt = prompt.format(\n",
    "    content=content,\n",
    "    to_send=to_send,\n",
    "    user_request=user_request\n",
    ")\n",
    "\n",
    "# Print the final prompt\n",
    "print(formatted_prompt)\n"
   ]
  },
  {
   "cell_type": "code",
   "execution_count": 18,
   "metadata": {},
   "outputs": [],
   "source": [
    "message = llm.invoke(formatted_prompt)"
   ]
  },
  {
   "cell_type": "code",
   "execution_count": null,
   "metadata": {},
   "outputs": [],
   "source": [
    "message = message.content.rstrip()"
   ]
  },
  {
   "cell_type": "code",
   "execution_count": 21,
   "metadata": {},
   "outputs": [
    {
     "data": {
      "text/plain": [
       "'Ingredients'"
      ]
     },
     "execution_count": 21,
     "metadata": {},
     "output_type": "execute_result"
    }
   ],
   "source": [
    "message"
   ]
  },
  {
   "cell_type": "markdown",
   "metadata": {},
   "source": [
    "# The return "
   ]
  },
  {
   "cell_type": "code",
   "execution_count": 22,
   "metadata": {},
   "outputs": [
    {
     "name": "stdout",
     "output_type": "stream",
     "text": [
      "\n",
      "1 cup quinoa, uncooked\n",
      "\n",
      "2 cups water or vegetable broth\n",
      "\n",
      "2 cups mixed vegetables (e.g., bell peppers, zucchini, cherry tomatoes, onions), chopped\n",
      "\n",
      "1/2 cup chickpeas, cooked\n",
      "\n",
      "1/4 cup chopped fresh parsley\n",
      "\n",
      "1/4 cup chopped fresh mint\n",
      "\n",
      "1/4 cup lemon juice\n",
      "\n",
      "3 tablespoons tahini\n",
      "\n",
      "1 tablespoon olive oil\n",
      "\n",
      "1 clove garlic, minced\n",
      "\n",
      "Salt and pepper to taste\n",
      "\n"
     ]
    }
   ],
   "source": [
    "import random\n",
    "if message=='None':\n",
    "    print('Sorry but your request have been declined')\n",
    "elif message =='Facts':\n",
    "    print(random.choice(value[message]))\n",
    "else :\n",
    "    print(value[message])"
   ]
  },
  {
   "cell_type": "code",
   "execution_count": null,
   "metadata": {},
   "outputs": [],
   "source": []
  }
 ],
 "metadata": {
  "kernelspec": {
   "display_name": "Python 3",
   "language": "python",
   "name": "python3"
  },
  "language_info": {
   "codemirror_mode": {
    "name": "ipython",
    "version": 3
   },
   "file_extension": ".py",
   "mimetype": "text/x-python",
   "name": "python",
   "nbconvert_exporter": "python",
   "pygments_lexer": "ipython3",
   "version": "3.10.12"
  }
 },
 "nbformat": 4,
 "nbformat_minor": 2
}
